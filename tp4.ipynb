{
  "cells": [
    {
      "cell_type": "code",
      "execution_count": null,
      "metadata": {
        "id": "uG814LBGlbyz"
      },
      "outputs": [],
      "source": [
        "#importation des bibliotheques pour travailler\n",
        "import os\n",
        "import string\n",
        "from nltk.corpus import stopwords\n",
        "from sklearn.model_selection import train_test_split\n",
        "from sklearn.metrics import accuracy_score\n",
        "import numpy as np"
      ]
    },
    {
      "cell_type": "code",
      "execution_count": null,
      "metadata": {
        "id": "E8VkGRANlz5A"
      },
      "outputs": [],
      "source": [
        "#fonction pour importer les donnees\n",
        "def load_data():\n",
        "    print(\"Loading data...\")\n",
        "    \n",
        "    ham_files_location = os.listdir(\"dataset/ham\")\n",
        "    spam_files_location = os.listdir(\"dataset/spam\")\n",
        "    data = []"
      ]
    }
  ],
  "metadata": {
    "colab": {
      "name": "tp4.ipynb",
      "provenance": []
    },
    "kernelspec": {
      "display_name": "Python 3",
      "name": "python3"
    },
    "language_info": {
      "name": "python"
    }
  },
  "nbformat": 4,
  "nbformat_minor": 0
}